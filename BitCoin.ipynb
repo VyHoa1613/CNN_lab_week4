{
  "nbformat": 4,
  "nbformat_minor": 0,
  "metadata": {
    "colab": {
      "name": "BitCoin.ipynb",
      "provenance": [],
      "collapsed_sections": []
    },
    "kernelspec": {
      "name": "python3",
      "display_name": "Python 3"
    },
    "language_info": {
      "name": "python"
    }
  },
  "cells": [
    {
      "cell_type": "markdown",
      "metadata": {
        "id": "view-in-github"
      },
      "source": [
        "<a href=\"https://colab.research.google.com/github/SekiroKenjii/Thematic-4/blob/main/BitCoin.ipynb\" target=\"_parent\"><img src=\"https://colab.research.google.com/assets/colab-badge.svg\" alt=\"Open In Colab\"/></a>"
      ]
    },
    {
      "cell_type": "code",
      "metadata": {
        "colab": {
          "base_uri": "https://localhost:8080/"
        },
        "id": "9APxZ5Ja9bo4",
        "outputId": "a974100e-0ed3-4747-a536-a1135d604576"
      },
      "source": [
        "from google.colab import drive\n",
        "drive.mount('/content/drive')"
      ],
      "execution_count": 1,
      "outputs": [
        {
          "output_type": "stream",
          "text": [
            "Mounted at /content/drive\n"
          ],
          "name": "stdout"
        }
      ]
    },
    {
      "cell_type": "code",
      "metadata": {
        "id": "ExxqZYUm86t2"
      },
      "source": [
        "import numpy as np\n",
        "import matplotlib.pyplot as plt\n",
        "from pathlib import Path\n",
        "import pandas as pd\n",
        "import random\n",
        "import pickle\n",
        "import tensorflow as tf\n",
        "from tensorflow import keras\n",
        "from tensorflow.keras.models import Sequential\n",
        "from tensorflow.keras.layers import LSTM,Dense ,Dropout, Bidirectional\n",
        "from sklearn.model_selection import train_test_split\n",
        "from sklearn.preprocessing import MinMaxScaler"
      ],
      "execution_count": 2,
      "outputs": []
    },
    {
      "cell_type": "markdown",
      "metadata": {
        "id": "6Gp63o_NXGZT"
      },
      "source": [
        "Load dataset"
      ]
    },
    {
      "cell_type": "code",
      "metadata": {
        "id": "TN9DO56D-Mpg"
      },
      "source": [
        "da = pd.read_csv('/content/drive/MyDrive/BTC_USD_2013-10-01_2021-03-30.csv')\n",
        "da.head()\n",
        "dataset = da.copy()\n",
        "dataset_labels = dataset.pop('Closing Price (USD)')\n",
        "dataset = np.array(dataset_labels)\n",
        "#dataset"
      ],
      "execution_count": 3,
      "outputs": []
    },
    {
      "cell_type": "markdown",
      "metadata": {
        "id": "l1w02LgoXPH1"
      },
      "source": [
        "Scaler dataset"
      ]
    },
    {
      "cell_type": "code",
      "metadata": {
        "id": "7kGQg8yx-TEv"
      },
      "source": [
        "sc = MinMaxScaler(feature_range=(0,1))\n",
        "dataset = dataset.reshape(-1, 1)\n",
        "dataset_scaled = sc.fit_transform(dataset)\n",
        "#dataset_scaled"
      ],
      "execution_count": 4,
      "outputs": []
    },
    {
      "cell_type": "markdown",
      "metadata": {
        "id": "qAmjYk4kXXBc"
      },
      "source": [
        "Tạo input"
      ]
    },
    {
      "cell_type": "code",
      "metadata": {
        "id": "Iu0nnyIu-Tsn"
      },
      "source": [
        "X = []\n",
        "Y = []\n",
        "n_future = 1 # next 1 days forecast\n",
        "n_past = 30 # Past 30 days \n",
        "for i in range(0,len(dataset_scaled)-n_past-n_future+1):\n",
        "    X.append(dataset_scaled[i : i + n_past , 0])     \n",
        "    Y.append(dataset_scaled[i + n_past : i + n_past + n_future , 0 ])\n",
        "X , Y = np.array(X), np.array(Y)\n",
        "X = np.reshape(X, (X.shape[0] , X.shape[1], 1) )"
      ],
      "execution_count": 5,
      "outputs": []
    },
    {
      "cell_type": "code",
      "metadata": {
        "colab": {
          "base_uri": "https://localhost:8080/"
        },
        "id": "7MDed2ayY1Es",
        "outputId": "a4b7813e-596b-40b2-8361-29bafd2dbfa3"
      },
      "source": [
        "len(X)"
      ],
      "execution_count": 6,
      "outputs": [
        {
          "output_type": "execute_result",
          "data": {
            "text/plain": [
              "2708"
            ]
          },
          "metadata": {
            "tags": []
          },
          "execution_count": 6
        }
      ]
    },
    {
      "cell_type": "markdown",
      "metadata": {
        "id": "C292Q7PJago6"
      },
      "source": [
        "Tạp tập train và tập test."
      ]
    },
    {
      "cell_type": "code",
      "metadata": {
        "id": "z1l6n-BTZ49y"
      },
      "source": [
        "X_train, X_test, Y_train, Y_test = train_test_split(X, Y, test_size=0.01)"
      ],
      "execution_count": 7,
      "outputs": []
    },
    {
      "cell_type": "code",
      "metadata": {
        "colab": {
          "base_uri": "https://localhost:8080/"
        },
        "id": "OJeZa2XiaVyr",
        "outputId": "f009bc68-aa22-4d57-ce3d-067a360315c4"
      },
      "source": [
        "len(X_train)"
      ],
      "execution_count": 8,
      "outputs": [
        {
          "output_type": "execute_result",
          "data": {
            "text/plain": [
              "2680"
            ]
          },
          "metadata": {
            "tags": []
          },
          "execution_count": 8
        }
      ]
    },
    {
      "cell_type": "code",
      "metadata": {
        "colab": {
          "base_uri": "https://localhost:8080/"
        },
        "id": "kBr2QZjnaZ0U",
        "outputId": "c12404b5-91de-439a-c7db-6ae30affd0ed"
      },
      "source": [
        "len(X_test)"
      ],
      "execution_count": 9,
      "outputs": [
        {
          "output_type": "execute_result",
          "data": {
            "text/plain": [
              "28"
            ]
          },
          "metadata": {
            "tags": []
          },
          "execution_count": 9
        }
      ]
    },
    {
      "cell_type": "markdown",
      "metadata": {
        "id": "29R_tQGIaoLN"
      },
      "source": [
        "Lưu X_train, X_test, Y_train và Y_test"
      ]
    },
    {
      "cell_type": "code",
      "metadata": {
        "id": "YwZx-u1wa4Fb"
      },
      "source": [
        "#train\n",
        "pickle_out = open(\"/content/drive/MyDrive/Colab Notebooks/X_train.pickle\", \"wb\")\n",
        "pickle.dump(X_train, pickle_out)\n",
        "pickle_out.close()\n",
        "\n",
        "pickle_out = open(\"/content/drive/MyDrive/Colab Notebooks/Y_train.pickle\", \"wb\")\n",
        "pickle.dump(Y_train, pickle_out)\n",
        "pickle_out.close()\n",
        "\n",
        "#test\n",
        "pickle_out = open(\"/content/drive/MyDrive/Colab Notebooks/X_test.pickle\", \"wb\")\n",
        "pickle.dump(X_test, pickle_out)\n",
        "pickle_out.close()\n",
        "\n",
        "pickle_out = open(\"/content/drive/MyDrive/Colab Notebooks/Y_test.pickle\", \"wb\")\n",
        "pickle.dump(Y_test, pickle_out)\n",
        "pickle_out.close()"
      ],
      "execution_count": 10,
      "outputs": []
    },
    {
      "cell_type": "markdown",
      "metadata": {
        "id": "YQrIaawqbSg7"
      },
      "source": [
        "Đọc các X Y train test mà ta đã lưu"
      ]
    },
    {
      "cell_type": "code",
      "metadata": {
        "id": "Q6EzYNcUbbVb"
      },
      "source": [
        "#train\n",
        "pickle_in = open(\"/content/drive/MyDrive/Colab Notebooks/X_train.pickle\", \"rb\")\n",
        "X_train = pickle.load(pickle_in)\n",
        "pickle_in.close()\n",
        "\n",
        "pickle_in = open(\"/content/drive/MyDrive/Colab Notebooks/Y_train.pickle\", \"rb\")\n",
        "Y_train = pickle.load(pickle_in)\n",
        "pickle_in.close()\n",
        "\n",
        "#test\n",
        "pickle_in = open(\"/content/drive/MyDrive/Colab Notebooks/X_test.pickle\", \"rb\")\n",
        "X_test = pickle.load(pickle_in)\n",
        "pickle_in.close()\n",
        "\n",
        "pickle_in = open(\"/content/drive/MyDrive/Colab Notebooks/Y_test.pickle\", \"rb\")\n",
        "Y_test = pickle.load(pickle_in)\n",
        "pickle_in.close()"
      ],
      "execution_count": 11,
      "outputs": []
    },
    {
      "cell_type": "markdown",
      "metadata": {
        "id": "Wscxpak2buJ8"
      },
      "source": [
        "Xây dựng model"
      ]
    },
    {
      "cell_type": "code",
      "metadata": {
        "id": "hs-ckmATiAF8"
      },
      "source": [
        "# load lại model cũ đã lưu\n",
        "#regressor = tf.keras.models.load_model('/content/drive/MyDrive/Colab Notebooks/LabRNN/bitcoin/my_model.h5')\n",
        "#regressor.summary()"
      ],
      "execution_count": null,
      "outputs": []
    },
    {
      "cell_type": "code",
      "metadata": {
        "id": "5jYn6RCz-dVf",
        "colab": {
          "base_uri": "https://localhost:8080/"
        },
        "outputId": "657f6cae-9dca-4a1f-a63b-38f5c7989af8"
      },
      "source": [
        "regressor = Sequential()\n",
        "regressor.add(Bidirectional(LSTM(units=30, return_sequences=True, input_shape = (X_train.shape[1],1) ) ))\n",
        "\n",
        "regressor.add(LSTM(units= 30 , return_sequences=True))\n",
        "regressor.add(Dropout(0.2))\n",
        "\n",
        "regressor.add(LSTM(units= 30 , return_sequences=True))\n",
        "regressor.add(Dropout(0.2))\n",
        "\n",
        "regressor.add(LSTM(units= 30))\n",
        "regressor.add(Dropout(0.2))\n",
        "\n",
        "regressor.add(Dense(units = n_future, activation='linear'))\n",
        "\n",
        "regressor.compile(optimizer='adam', loss='mean_squared_error',metrics=['acc'])\n",
        "\n",
        "history = regressor.fit(X_train, Y_train, epochs=100, batch_size=32 )\n",
        "\n",
        "regressor.summary()"
      ],
      "execution_count": 12,
      "outputs": [
        {
          "output_type": "stream",
          "text": [
            "Epoch 1/100\n",
            "84/84 [==============================] - 9s 33ms/step - loss: 0.0088 - acc: 1.2121e-04\n",
            "Epoch 2/100\n",
            "84/84 [==============================] - 3s 32ms/step - loss: 0.0015 - acc: 2.7478e-04\n",
            "Epoch 3/100\n",
            "84/84 [==============================] - 3s 32ms/step - loss: 9.8438e-04 - acc: 4.7487e-04\n",
            "Epoch 4/100\n",
            "84/84 [==============================] - 3s 32ms/step - loss: 0.0011 - acc: 1.5238e-04\n",
            "Epoch 5/100\n",
            "84/84 [==============================] - 3s 32ms/step - loss: 6.8581e-04 - acc: 4.1709e-04\n",
            "Epoch 6/100\n",
            "84/84 [==============================] - 3s 32ms/step - loss: 6.8934e-04 - acc: 3.5568e-04\n",
            "Epoch 7/100\n",
            "84/84 [==============================] - 3s 32ms/step - loss: 6.4233e-04 - acc: 2.1617e-04\n",
            "Epoch 8/100\n",
            "84/84 [==============================] - 3s 32ms/step - loss: 9.3718e-04 - acc: 4.0396e-04\n",
            "Epoch 9/100\n",
            "84/84 [==============================] - 3s 32ms/step - loss: 8.5142e-04 - acc: 2.6581e-04\n",
            "Epoch 10/100\n",
            "84/84 [==============================] - 3s 32ms/step - loss: 6.7567e-04 - acc: 4.7487e-04\n",
            "Epoch 11/100\n",
            "84/84 [==============================] - 3s 33ms/step - loss: 7.1961e-04 - acc: 6.7861e-04\n",
            "Epoch 12/100\n",
            "84/84 [==============================] - 3s 32ms/step - loss: 6.3758e-04 - acc: 5.0708e-05\n",
            "Epoch 13/100\n",
            "84/84 [==============================] - 3s 32ms/step - loss: 5.8038e-04 - acc: 2.6581e-04\n",
            "Epoch 14/100\n",
            "84/84 [==============================] - 3s 32ms/step - loss: 8.2474e-04 - acc: 2.2399e-04\n",
            "Epoch 15/100\n",
            "84/84 [==============================] - 3s 33ms/step - loss: 8.2458e-04 - acc: 7.3753e-04\n",
            "Epoch 16/100\n",
            "84/84 [==============================] - 3s 32ms/step - loss: 5.7079e-04 - acc: 2.0101e-04\n",
            "Epoch 17/100\n",
            "84/84 [==============================] - 3s 32ms/step - loss: 5.6485e-04 - acc: 6.7861e-04\n",
            "Epoch 18/100\n",
            "84/84 [==============================] - 3s 33ms/step - loss: 4.8661e-04 - acc: 3.7903e-04\n",
            "Epoch 19/100\n",
            "84/84 [==============================] - 3s 32ms/step - loss: 5.7135e-04 - acc: 0.0015\n",
            "Epoch 20/100\n",
            "84/84 [==============================] - 3s 32ms/step - loss: 6.1452e-04 - acc: 4.7487e-04\n",
            "Epoch 21/100\n",
            "84/84 [==============================] - 3s 32ms/step - loss: 4.5460e-04 - acc: 4.0396e-04\n",
            "Epoch 22/100\n",
            "84/84 [==============================] - 3s 33ms/step - loss: 6.7417e-04 - acc: 0.0011\n",
            "Epoch 23/100\n",
            "84/84 [==============================] - 3s 32ms/step - loss: 5.2693e-04 - acc: 6.5819e-05\n",
            "Epoch 24/100\n",
            "84/84 [==============================] - 3s 32ms/step - loss: 5.3255e-04 - acc: 6.7861e-04\n",
            "Epoch 25/100\n",
            "84/84 [==============================] - 3s 32ms/step - loss: 6.6459e-04 - acc: 1.9366e-04\n",
            "Epoch 26/100\n",
            "84/84 [==============================] - 3s 32ms/step - loss: 7.1839e-04 - acc: 3.5568e-04\n",
            "Epoch 27/100\n",
            "84/84 [==============================] - 3s 32ms/step - loss: 5.0768e-04 - acc: 0.0012\n",
            "Epoch 28/100\n",
            "84/84 [==============================] - 3s 32ms/step - loss: 4.8429e-04 - acc: 1.3959e-04\n",
            "Epoch 29/100\n",
            "84/84 [==============================] - 3s 32ms/step - loss: 5.9860e-04 - acc: 4.7487e-04\n",
            "Epoch 30/100\n",
            "84/84 [==============================] - 3s 33ms/step - loss: 5.9752e-04 - acc: 7.3753e-04\n",
            "Epoch 31/100\n",
            "84/84 [==============================] - 3s 32ms/step - loss: 4.9651e-04 - acc: 5.8323e-04\n",
            "Epoch 32/100\n",
            "84/84 [==============================] - 3s 32ms/step - loss: 4.0302e-04 - acc: 6.7861e-04\n",
            "Epoch 33/100\n",
            "84/84 [==============================] - 3s 32ms/step - loss: 3.3952e-04 - acc: 8.4856e-04\n",
            "Epoch 34/100\n",
            "84/84 [==============================] - 3s 32ms/step - loss: 4.7868e-04 - acc: 8.1577e-05\n",
            "Epoch 35/100\n",
            "84/84 [==============================] - 3s 32ms/step - loss: 5.2407e-04 - acc: 4.0396e-04\n",
            "Epoch 36/100\n",
            "84/84 [==============================] - 3s 32ms/step - loss: 5.3978e-04 - acc: 0.0010\n",
            "Epoch 37/100\n",
            "84/84 [==============================] - 3s 33ms/step - loss: 4.4612e-04 - acc: 7.3753e-04\n",
            "Epoch 38/100\n",
            "84/84 [==============================] - 3s 33ms/step - loss: 4.8085e-04 - acc: 8.9452e-04\n",
            "Epoch 39/100\n",
            "84/84 [==============================] - 3s 33ms/step - loss: 4.5623e-04 - acc: 2.9340e-04\n",
            "Epoch 40/100\n",
            "84/84 [==============================] - 3s 33ms/step - loss: 6.0981e-04 - acc: 5.8323e-04\n",
            "Epoch 41/100\n",
            "84/84 [==============================] - 3s 33ms/step - loss: 4.9618e-04 - acc: 1.3959e-04\n",
            "Epoch 42/100\n",
            "84/84 [==============================] - 3s 33ms/step - loss: 3.8678e-04 - acc: 4.9086e-04\n",
            "Epoch 43/100\n",
            "84/84 [==============================] - 3s 33ms/step - loss: 4.7341e-04 - acc: 1.3336e-04\n",
            "Epoch 44/100\n",
            "84/84 [==============================] - 3s 32ms/step - loss: 3.2315e-04 - acc: 9.2471e-05\n",
            "Epoch 45/100\n",
            "84/84 [==============================] - 3s 33ms/step - loss: 5.1830e-04 - acc: 2.8397e-04\n",
            "Epoch 46/100\n",
            "84/84 [==============================] - 3s 33ms/step - loss: 3.5280e-04 - acc: 2.9340e-04\n",
            "Epoch 47/100\n",
            "84/84 [==============================] - 3s 33ms/step - loss: 4.1972e-04 - acc: 7.6249e-05\n",
            "Epoch 48/100\n",
            "84/84 [==============================] - 3s 33ms/step - loss: 4.5038e-04 - acc: 4.4485e-04\n",
            "Epoch 49/100\n",
            "84/84 [==============================] - 3s 33ms/step - loss: 4.0766e-04 - acc: 8.0771e-04\n",
            "Epoch 50/100\n",
            "84/84 [==============================] - 3s 32ms/step - loss: 4.6060e-04 - acc: 1.4593e-04\n",
            "Epoch 51/100\n",
            "84/84 [==============================] - 3s 33ms/step - loss: 3.3871e-04 - acc: 4.3071e-04\n",
            "Epoch 52/100\n",
            "84/84 [==============================] - 3s 33ms/step - loss: 5.3402e-04 - acc: 0.0015\n",
            "Epoch 53/100\n",
            "84/84 [==============================] - 3s 33ms/step - loss: 4.2010e-04 - acc: 2.4851e-04\n",
            "Epoch 54/100\n",
            "84/84 [==============================] - 3s 33ms/step - loss: 3.8878e-04 - acc: 3.7903e-04\n",
            "Epoch 55/100\n",
            "84/84 [==============================] - 3s 32ms/step - loss: 4.3684e-04 - acc: 4.4485e-04\n",
            "Epoch 56/100\n",
            "84/84 [==============================] - 3s 33ms/step - loss: 5.5780e-04 - acc: 4.4485e-04\n",
            "Epoch 57/100\n",
            "84/84 [==============================] - 3s 33ms/step - loss: 3.1838e-04 - acc: 8.0771e-04\n",
            "Epoch 58/100\n",
            "84/84 [==============================] - 3s 33ms/step - loss: 5.4758e-04 - acc: 2.2231e-05\n",
            "Epoch 59/100\n",
            "84/84 [==============================] - 3s 33ms/step - loss: 3.7659e-04 - acc: 3.7903e-04\n",
            "Epoch 60/100\n",
            "84/84 [==============================] - 3s 33ms/step - loss: 3.4689e-04 - acc: 0.0010\n",
            "Epoch 61/100\n",
            "84/84 [==============================] - 3s 33ms/step - loss: 6.3950e-04 - acc: 2.8397e-04\n",
            "Epoch 62/100\n",
            "84/84 [==============================] - 3s 33ms/step - loss: 3.9483e-04 - acc: 0.0013\n",
            "Epoch 63/100\n",
            "84/84 [==============================] - 3s 33ms/step - loss: 3.8246e-04 - acc: 8.1577e-05\n",
            "Epoch 64/100\n",
            "84/84 [==============================] - 3s 33ms/step - loss: 4.2494e-04 - acc: 1.0370e-04\n",
            "Epoch 65/100\n",
            "84/84 [==============================] - 3s 33ms/step - loss: 4.2127e-04 - acc: 6.5819e-05\n",
            "Epoch 66/100\n",
            "84/84 [==============================] - 3s 32ms/step - loss: 3.9790e-04 - acc: 6.0486e-04\n",
            "Epoch 67/100\n",
            "84/84 [==============================] - 3s 33ms/step - loss: 4.3788e-04 - acc: 1.0370e-04\n",
            "Epoch 68/100\n",
            "84/84 [==============================] - 3s 33ms/step - loss: 3.2860e-04 - acc: 7.0689e-04\n",
            "Epoch 69/100\n",
            "84/84 [==============================] - 3s 41ms/step - loss: 4.0277e-04 - acc: 1.3336e-04\n",
            "Epoch 70/100\n",
            "84/84 [==============================] - 3s 41ms/step - loss: 3.8727e-04 - acc: 3.6717e-04\n",
            "Epoch 71/100\n",
            "84/84 [==============================] - 3s 33ms/step - loss: 4.1691e-04 - acc: 2.6581e-04\n",
            "Epoch 72/100\n",
            "84/84 [==============================] - 3s 33ms/step - loss: 3.8039e-04 - acc: 1.7938e-04\n",
            "Epoch 73/100\n",
            "84/84 [==============================] - 3s 32ms/step - loss: 3.9197e-04 - acc: 5.2508e-04\n",
            "Epoch 74/100\n",
            "84/84 [==============================] - 3s 33ms/step - loss: 4.4175e-04 - acc: 3.6717e-04\n",
            "Epoch 75/100\n",
            "84/84 [==============================] - 3s 33ms/step - loss: 4.2902e-04 - acc: 5.0708e-05\n",
            "Epoch 76/100\n",
            "84/84 [==============================] - 3s 33ms/step - loss: 4.6672e-04 - acc: 8.9452e-04\n",
            "Epoch 77/100\n",
            "84/84 [==============================] - 3s 33ms/step - loss: 4.3720e-04 - acc: 3.9128e-04\n",
            "Epoch 78/100\n",
            "84/84 [==============================] - 3s 33ms/step - loss: 3.3709e-04 - acc: 1.0370e-04\n",
            "Epoch 79/100\n",
            "84/84 [==============================] - 3s 33ms/step - loss: 3.8679e-04 - acc: 4.5956e-04\n",
            "Epoch 80/100\n",
            "84/84 [==============================] - 3s 33ms/step - loss: 3.7270e-04 - acc: 1.0944e-04\n",
            "Epoch 81/100\n",
            "84/84 [==============================] - 3s 33ms/step - loss: 4.4617e-04 - acc: 2.5706e-04\n",
            "Epoch 82/100\n",
            "84/84 [==============================] - 3s 33ms/step - loss: 4.3749e-04 - acc: 1.5895e-04\n",
            "Epoch 83/100\n",
            "84/84 [==============================] - 3s 33ms/step - loss: 2.8082e-04 - acc: 2.5706e-04\n",
            "Epoch 84/100\n",
            "84/84 [==============================] - 3s 33ms/step - loss: 5.5869e-04 - acc: 8.1577e-05\n",
            "Epoch 85/100\n",
            "84/84 [==============================] - 3s 33ms/step - loss: 3.9406e-04 - acc: 4.5956e-04\n",
            "Epoch 86/100\n",
            "84/84 [==============================] - 3s 33ms/step - loss: 3.9761e-04 - acc: 2.7478e-04\n",
            "Epoch 87/100\n",
            "84/84 [==============================] - 3s 33ms/step - loss: 3.9585e-04 - acc: 4.5956e-04\n",
            "Epoch 88/100\n",
            "84/84 [==============================] - 3s 33ms/step - loss: 3.6918e-04 - acc: 3.4454e-04\n",
            "Epoch 89/100\n",
            "84/84 [==============================] - 3s 33ms/step - loss: 3.8999e-04 - acc: 8.9452e-04\n",
            "Epoch 90/100\n",
            "84/84 [==============================] - 3s 33ms/step - loss: 4.2135e-04 - acc: 2.4851e-04\n",
            "Epoch 91/100\n",
            "84/84 [==============================] - 3s 33ms/step - loss: 3.7250e-04 - acc: 0.0018\n",
            "Epoch 92/100\n",
            "84/84 [==============================] - 3s 33ms/step - loss: 4.4197e-04 - acc: 1.4593e-04\n",
            "Epoch 93/100\n",
            "84/84 [==============================] - 3s 33ms/step - loss: 5.0962e-04 - acc: 6.2784e-04\n",
            "Epoch 94/100\n",
            "84/84 [==============================] - 3s 33ms/step - loss: 5.4961e-04 - acc: 7.6249e-05\n",
            "Epoch 95/100\n",
            "84/84 [==============================] - 3s 33ms/step - loss: 3.6005e-04 - acc: 2.4851e-04\n",
            "Epoch 96/100\n",
            "84/84 [==============================] - 3s 33ms/step - loss: 4.0813e-04 - acc: 4.4485e-04\n",
            "Epoch 97/100\n",
            "84/84 [==============================] - 3s 33ms/step - loss: 3.8644e-04 - acc: 2.2399e-04\n",
            "Epoch 98/100\n",
            "84/84 [==============================] - 3s 33ms/step - loss: 3.2305e-04 - acc: 1.8645e-04\n",
            "Epoch 99/100\n",
            "84/84 [==============================] - 3s 33ms/step - loss: 3.4891e-04 - acc: 7.7095e-04\n",
            "Epoch 100/100\n",
            "84/84 [==============================] - 3s 33ms/step - loss: 3.4822e-04 - acc: 2.9340e-04\n",
            "Model: \"sequential\"\n",
            "_________________________________________________________________\n",
            "Layer (type)                 Output Shape              Param #   \n",
            "=================================================================\n",
            "bidirectional (Bidirectional (None, 30, 60)            7680      \n",
            "_________________________________________________________________\n",
            "lstm_1 (LSTM)                (None, 30, 30)            10920     \n",
            "_________________________________________________________________\n",
            "dropout (Dropout)            (None, 30, 30)            0         \n",
            "_________________________________________________________________\n",
            "lstm_2 (LSTM)                (None, 30, 30)            7320      \n",
            "_________________________________________________________________\n",
            "dropout_1 (Dropout)          (None, 30, 30)            0         \n",
            "_________________________________________________________________\n",
            "lstm_3 (LSTM)                (None, 30)                7320      \n",
            "_________________________________________________________________\n",
            "dropout_2 (Dropout)          (None, 30)                0         \n",
            "_________________________________________________________________\n",
            "dense (Dense)                (None, 1)                 31        \n",
            "=================================================================\n",
            "Total params: 33,271\n",
            "Trainable params: 33,271\n",
            "Non-trainable params: 0\n",
            "_________________________________________________________________\n"
          ],
          "name": "stdout"
        }
      ]
    },
    {
      "cell_type": "markdown",
      "metadata": {
        "id": "tP0JWFsAhtl4"
      },
      "source": [
        "Lưu lại model"
      ]
    },
    {
      "cell_type": "code",
      "metadata": {
        "id": "LC1fi47ahwIb"
      },
      "source": [
        "!mkdir -p saved_model\n",
        "regressor.save('/content/drive/MyDrive/Colab Notebooks/Bitcoin_model.h5')"
      ],
      "execution_count": 13,
      "outputs": []
    },
    {
      "cell_type": "markdown",
      "metadata": {
        "id": "njeSLdeoiRT5"
      },
      "source": [
        "Đánh giá mô hình"
      ]
    },
    {
      "cell_type": "code",
      "metadata": {
        "colab": {
          "base_uri": "https://localhost:8080/",
          "height": 573
        },
        "id": "gBdCDpOJhtRC",
        "outputId": "3e431fef-5702-4879-baea-1f1273c3d044"
      },
      "source": [
        "# list all data in history\n",
        "#print(history.history.keys())\n",
        "#print(model.metrics_names)\n",
        "# summarize history for accuracy\n",
        "plt.plot(history.history['acc'])\n",
        "plt.title('model accuracy')\n",
        "plt.ylabel('accuracy')\n",
        "plt.xlabel('epoch')\n",
        "plt.legend(['train', 'test'], loc='upper left')\n",
        "plt.show()\n",
        "# summarize history for loss\n",
        "plt.plot(history.history['loss'])\n",
        "plt.title('model loss')\n",
        "plt.ylabel('loss')\n",
        "plt.xlabel('epoch')\n",
        "plt.legend(['train', 'test'], loc='upper left')\n",
        "plt.show()"
      ],
      "execution_count": 14,
      "outputs": [
        {
          "output_type": "display_data",
          "data": {
            "image/png": "[encoded data removed]",
            "text/plain": [
              "<Figure size 432x288 with 1 Axes>"
            ]
          },
          "metadata": {
            "tags": [],
            "needs_background": "light"
          }
        },
        {
          "output_type": "display_data",
          "data": {
            "image/png": "[encoded data removed]",
            "text/plain": [
              "<Figure size 432x288 with 1 Axes>"
            ]
          },
          "metadata": {
            "tags": [],
            "needs_background": "light"
          }
        }
      ]
    },
    {
      "cell_type": "markdown",
      "metadata": {
        "id": "D6H1Z5N-ikwu"
      },
      "source": [
        "Đánh giá bằng tập test. \n",
        "Trực quan kết quả"
      ]
    },
    {
      "cell_type": "code",
      "metadata": {
        "colab": {
          "base_uri": "https://localhost:8080/",
          "height": 1000
        },
        "id": "Aks_QinrirHY",
        "outputId": "864db311-caf6-42f7-cf86-3b580e0a119c"
      },
      "source": [
        "predict = regressor.predict(X_test)\n",
        "\n",
        "plt.plot(sc.inverse_transform(Y_test), color = 'red', label = 'Real Closing Price')\n",
        "plt.plot(sc.inverse_transform(predict), color = 'blue', label = 'Predicted Closing Price')\n",
        "plt.title('Closing Price Bitcoin Prediction')\n",
        "plt.xlabel('Time')\n",
        "plt.ylabel('Price')\n",
        "plt.legend()\n",
        "plt.show()\n",
        "\n",
        "plt.plot(sc.inverse_transform(Y_test[1:15]), color = 'red', label = 'Real Closing Price')\n",
        "plt.plot(sc.inverse_transform(predict[1:15]), color = 'blue', label = 'Predicted Closing Price')\n",
        "plt.title('Closing Price Bitcoin Prediction')\n",
        "plt.xlabel('Time')\n",
        "plt.ylabel('Price')\n",
        "plt.legend()\n",
        "print(sc.inverse_transform(Y_test[1:15]))\n",
        "print(sc.inverse_transform(predict[1:15]))\n",
        "plt.show()"
      ],
      "execution_count": 15,
      "outputs": [
        {
          "output_type": "display_data",
          "data": {
            "image/png": "[encoded data removed]",
            "text/plain": [
              "<Figure size 432x288 with 1 Axes>"
            ]
          },
          "metadata": {
            "tags": [],
            "needs_background": "light"
          }
        },
        {
          "output_type": "stream",
          "text": [
            "[[  230.93575   ]\n",
            " [  337.23375   ]\n",
            " [13140.66928406]\n",
            " [  609.4325    ]\n",
            " [  621.3075    ]\n",
            " [  373.155     ]\n",
            " [  422.044     ]\n",
            " [ 1036.226     ]\n",
            " [ 5497.41127873]\n",
            " [ 6151.325     ]\n",
            " [11100.2925    ]\n",
            " [  326.2325    ]\n",
            " [10043.19644129]\n",
            " [48291.41208335]]\n",
            "[[  209.00833]\n",
            " [  338.73224]\n",
            " [12320.839  ]\n",
            " [  586.8516 ]\n",
            " [  624.7201 ]\n",
            " [  366.57297]\n",
            " [  409.87976]\n",
            " [ 1119.8656 ]\n",
            " [ 5788.342  ]\n",
            " [ 5801.717  ]\n",
            " [10285.219  ]\n",
            " [  329.6622 ]\n",
            " [10497.408  ]\n",
            " [50736.98   ]]\n"
          ],
          "name": "stdout"
        },
        {
          "output_type": "display_data",
          "data": {
            "image/png": "[encoded data removed]",
            "text/plain": [
              "<Figure size 432x288 with 1 Axes>"
            ]
          },
          "metadata": {
            "tags": [],
            "needs_background": "light"
          }
        }
      ]
    }
  ]
}